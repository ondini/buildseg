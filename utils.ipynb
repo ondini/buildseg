{
 "cells": [
  {
   "cell_type": "code",
   "execution_count": 1,
   "metadata": {},
   "outputs": [],
   "source": [
    "from PIL import Image\n",
    "import numpy as np\n",
    "from scipy import ndimage\n",
    "import os\n",
    "import cv2\n",
    "import matplotlib.pyplot as plt\n",
    "import time\n",
    "\n",
    "import torch\n"
   ]
  },
  {
   "cell_type": "markdown",
   "metadata": {},
   "source": [
    "RESULTS TABLE CREATION"
   ]
  },
  {
   "cell_type": "code",
   "execution_count": 61,
   "metadata": {},
   "outputs": [],
   "source": [
    "results_path = '/home/kafkaon1/FVAPP/out/eval/run_230526-124959/results.npy'"
   ]
  },
  {
   "cell_type": "code",
   "execution_count": 62,
   "metadata": {},
   "outputs": [],
   "source": [
    "res = np.load(results_path, allow_pickle=True).item()"
   ]
  },
  {
   "cell_type": "code",
   "execution_count": 39,
   "metadata": {},
   "outputs": [
    {
     "data": {
      "text/plain": [
       "['iou', 'dice', 'dice_b1', 'dice_b3', 'dice_b5']"
      ]
     },
     "execution_count": 39,
     "metadata": {},
     "output_type": "execute_result"
    }
   ],
   "source": [
    "list(res[list(res.keys())[0]].keys())"
   ]
  },
  {
   "cell_type": "code",
   "execution_count": 63,
   "metadata": {},
   "outputs": [],
   "source": [
    "metrics = ['iou','dice', 'dice_b1','dice_b3','dice_b5']\n"
   ]
  },
  {
   "cell_type": "code",
   "execution_count": 64,
   "metadata": {},
   "outputs": [],
   "source": [
    "table = [['metric'] + [m.replace('_','-') for m in metrics]]\n",
    "\n",
    "for model_name, values in res.items():\n",
    "    row = [model_name.replace('_','-') + '-rp']\n",
    "    for metric_name in metrics:\n",
    "        metric = values[metric_name]\n",
    "        row.append(f\"{metric.mean().item()*100:.2f}\")\n",
    "    table.append(row)\n"
   ]
  },
  {
   "cell_type": "code",
   "execution_count": 65,
   "metadata": {},
   "outputs": [
    {
     "data": {
      "text/plain": [
       "array([['metric', 'iou', 'dice', 'dice-b1', 'dice-b3', 'dice-b5'],\n",
       "       ['bce-rp', '90.29', '94.83', '24.47', '54.89', '68.15'],\n",
       "       ['bl-bce-a084-rp', '90.20', '94.77', '24.92', '56.17', '69.36'],\n",
       "       ['bl-bdc-a089-rp', '89.89', '94.58', '24.94', '56.12', '69.22']],\n",
       "      dtype='<U14')"
      ]
     },
     "execution_count": 65,
     "metadata": {},
     "output_type": "execute_result"
    }
   ],
   "source": [
    "np.array(table).astype(str)"
   ]
  },
  {
   "cell_type": "code",
   "execution_count": 66,
   "metadata": {},
   "outputs": [],
   "source": [
    "np.savetxt(\"mydata.csv\", np.array(table).astype(str), fmt=\"%s\", delimiter=\" & \", newline=\" \\\\\\\\\\n\", header=f\"\\\\begin{{tabular}}{{ {''.join(['c']*len(table[0]))} }}\", footer=\"\\\\end{tabular}\")"
   ]
  },
  {
   "cell_type": "code",
   "execution_count": 54,
   "metadata": {},
   "outputs": [],
   "source": [
    "np.savetxt(\"mydata.csv\", np.array(table).astype(str), fmt=\"%s\", delimiter=',')"
   ]
  },
  {
   "cell_type": "markdown",
   "metadata": {},
   "source": [
    "CHECK DATASET BALANCE"
   ]
  },
  {
   "cell_type": "code",
   "execution_count": 26,
   "metadata": {},
   "outputs": [],
   "source": [
    "input_dir = '/home/kafkaon1/FVAPP/data/FV/'\n",
    "\n",
    "train_data_path = os.path.join(input_dir, 'train/image_resized')\n",
    "train_label_path = os.path.join(input_dir, 'train/label_resized')\n",
    "\n",
    "val_data_path = os.path.join(input_dir, 'val/image_resized')\n",
    "val_label_path = os.path.join(input_dir, 'val/label_resized')"
   ]
  },
  {
   "cell_type": "code",
   "execution_count": 129,
   "metadata": {},
   "outputs": [],
   "source": [
    "def check_dataset_balance(label_names, labels_path, coeff, threshold=15000):\n",
    "\n",
    "    max_i = int(len(label_names)*coeff)\n",
    "    print(max_i)\n",
    "    \n",
    "    ok = []\n",
    "    cnt = 0\n",
    "    for i, label_name in enumerate(label_names[:max_i]):\n",
    "        label_path = os.path.join(labels_path, label_name)\n",
    "        label = np.array(Image.open(label_path))\n",
    " \n",
    "        cnt += (label == 1).sum() < threshold\n",
    "        if (label == 1).sum() >= threshold:\n",
    "            ok.append(label_name)\n",
    "            #display(Image.fromarray(np.uint8(label*100)))\n",
    "\n",
    "\n",
    "    print(f\"{cnt}:{cnt/i*100:.2f}%\")\n",
    "    return ok"
   ]
  },
  {
   "cell_type": "code",
   "execution_count": 146,
   "metadata": {},
   "outputs": [],
   "source": [
    "with open('/home/kafkaon1/FVAPP/data/FV/vala.txt') as f:\n",
    "    names = f.read()\n",
    "    f.close()\n",
    "    \n",
    "names = names.split('\\n')[:-1]"
   ]
  },
  {
   "cell_type": "code",
   "execution_count": 147,
   "metadata": {},
   "outputs": [
    {
     "data": {
      "text/plain": [
       "23267"
      ]
     },
     "execution_count": 147,
     "metadata": {},
     "output_type": "execute_result"
    }
   ],
   "source": [
    "len(names)"
   ]
  },
  {
   "cell_type": "code",
   "execution_count": 148,
   "metadata": {},
   "outputs": [
    {
     "name": "stdout",
     "output_type": "stream",
     "text": [
      "23267\n",
      "0:0.00%\n"
     ]
    }
   ],
   "source": [
    "ok= check_dataset_balance(names ,val_label_path, 1)"
   ]
  },
  {
   "cell_type": "code",
   "execution_count": 144,
   "metadata": {},
   "outputs": [],
   "source": [
    "k = '\\n'.join(ok)"
   ]
  },
  {
   "cell_type": "code",
   "execution_count": 145,
   "metadata": {},
   "outputs": [],
   "source": [
    "with open('/home/kafkaon1/FVAPP/data/FV/vala.txt', \"w\") as fo:\n",
    "    fo.writelines(k)\n",
    "    fo.close()"
   ]
  },
  {
   "cell_type": "code",
   "execution_count": 108,
   "metadata": {},
   "outputs": [],
   "source": [
    "with open('/home/kafkaon1/FVAPP/data/FV/val.txt') as f:\n",
    "    train_names = f.readlines()\n",
    "    f.close()\n",
    "\n",
    "np.random.shuffle(train_names)\n",
    "\n",
    "with open('/home/kafkaon1/FVAPP/data/FV/vala.txt', \"a\") as fo:\n",
    "    fo.writelines(train_names)\n",
    "    fo.close()\n"
   ]
  }
 ],
 "metadata": {
  "kernelspec": {
   "display_name": "mlenv",
   "language": "python",
   "name": "python3"
  },
  "language_info": {
   "codemirror_mode": {
    "name": "ipython",
    "version": 3
   },
   "file_extension": ".py",
   "mimetype": "text/x-python",
   "name": "python",
   "nbconvert_exporter": "python",
   "pygments_lexer": "ipython3",
   "version": "3.9.17"
  },
  "orig_nbformat": 4
 },
 "nbformat": 4,
 "nbformat_minor": 2
}
