{
 "cells": [
  {
   "cell_type": "code",
   "execution_count": 1,
   "metadata": {},
   "outputs": [],
   "source": [
    "from PIL import Image\n",
    "import numpy as np\n",
    "from scipy import ndimage\n",
    "import os\n",
    "import cv2\n",
    "import matplotlib.pyplot as plt\n",
    "\n",
    "import torch\n",
    "import torch.nn as nn\n",
    "from torch.utils.data import DataLoader\n",
    "import torchvision.transforms as T\n",
    "from torchvision.io import read_image\n",
    "import random\n",
    "\n",
    "\n",
    "frame_size = 640\n",
    "img_ratio = 0.075/0.1 # resolutions of given dataset and Google - (156543.03392 * math.cos(math.radians(lat))) / (2 ** zoom)\n",
    "\n",
    "input_dir = '/home/ondin/Developer/FVAPP/data_big/archive/train/'\n",
    "output_dir = '/home/ondin/Developer/FVAPP/data_big/archive/train/'\n"
   ]
  },
  {
   "cell_type": "code",
   "execution_count": 2,
   "metadata": {},
   "outputs": [],
   "source": [
    "img_path = '/home/ondin/Developer/FVAPP/data_big/archive/train/image_resized/christchurch_309_1.png'\n",
    "label_path = '/home/ondin/Developer/FVAPP/data_big/archive/train/label_resized/christchurch_309_1.png'"
   ]
  },
  {
   "cell_type": "code",
   "execution_count": 10,
   "metadata": {},
   "outputs": [],
   "source": [
    "im = np.array(Image.open(img_path))\n",
    "l = np.array(Image.open(label_path)).astype('float')"
   ]
  },
  {
   "cell_type": "code",
   "execution_count": 3,
   "metadata": {},
   "outputs": [],
   "source": [
    "ii = read_image(img_path)"
   ]
  },
  {
   "cell_type": "code",
   "execution_count": 4,
   "metadata": {},
   "outputs": [
    {
     "data": {
      "text/plain": [
       "torch.Size([3, 640, 640])"
      ]
     },
     "execution_count": 4,
     "metadata": {},
     "output_type": "execute_result"
    }
   ],
   "source": [
    "ii.shape"
   ]
  },
  {
   "cell_type": "code",
   "execution_count": 11,
   "metadata": {},
   "outputs": [
    {
     "data": {
      "text/plain": [
       "tensor([[[0, 0, 0,  ..., 1, 1, 1],\n",
       "         [0, 0, 0,  ..., 1, 1, 1],\n",
       "         [0, 0, 0,  ..., 1, 1, 1],\n",
       "         ...,\n",
       "         [0, 0, 0,  ..., 0, 0, 0],\n",
       "         [0, 0, 0,  ..., 0, 0, 0],\n",
       "         [0, 0, 0,  ..., 0, 0, 0]]], dtype=torch.int32)"
      ]
     },
     "execution_count": 11,
     "metadata": {},
     "output_type": "execute_result"
    }
   ],
   "source": [
    "l = T.ToTensor()(l)\n",
    "l.int()"
   ]
  },
  {
   "cell_type": "code",
   "execution_count": 91,
   "metadata": {},
   "outputs": [
    {
     "data": {
      "text/plain": [
       "tensor([[[0., 0., 0.,  ..., 1., 1., 1.],\n",
       "         [0., 0., 0.,  ..., 1., 1., 1.],\n",
       "         [0., 0., 0.,  ..., 1., 1., 1.],\n",
       "         ...,\n",
       "         [0., 0., 0.,  ..., 0., 0., 0.],\n",
       "         [0., 0., 0.,  ..., 0., 0., 0.],\n",
       "         [0., 0., 0.,  ..., 0., 0., 0.]]], dtype=torch.float64)"
      ]
     },
     "execution_count": 91,
     "metadata": {},
     "output_type": "execute_result"
    }
   ],
   "source": []
  },
  {
   "cell_type": "code",
   "execution_count": 59,
   "metadata": {},
   "outputs": [],
   "source": [
    "\n",
    "def random_rot90(image):\n",
    "    k = random.randint(0, 3)\n",
    "    return torch.rot90(image, k=k, dims=(1, 2))\n",
    "\n",
    "\n",
    "training_augmentation = T.Compose([\n",
    "    T.ToTensor(),\n",
    "    T.Lambda(random_rot90)\n",
    "    ]\n",
    ")"
   ]
  },
  {
   "cell_type": "code",
   "execution_count": 64,
   "metadata": {},
   "outputs": [
    {
     "data": {
      "text/plain": [
       "torch.Size([1, 2, 640])"
      ]
     },
     "execution_count": 64,
     "metadata": {},
     "output_type": "execute_result"
    }
   ],
   "source": [
    "torch.stack([l==i for i in range(2)], dim=1).sum(dim=(2))"
   ]
  },
  {
   "cell_type": "code",
   "execution_count": null,
   "metadata": {},
   "outputs": [],
   "source": []
  },
  {
   "cell_type": "code",
   "execution_count": 52,
   "metadata": {},
   "outputs": [],
   "source": [
    "aim = training_augmentation(im)\n",
    "aim = aim.permute(1, 2, 0).numpy()"
   ]
  },
  {
   "cell_type": "code",
   "execution_count": 94,
   "metadata": {},
   "outputs": [],
   "source": [
    "al = training_augmentation(l)"
   ]
  },
  {
   "cell_type": "code",
   "execution_count": 95,
   "metadata": {},
   "outputs": [
    {
     "data": {
      "text/plain": [
       "torch.Size([1, 640, 640])"
      ]
     },
     "execution_count": 95,
     "metadata": {},
     "output_type": "execute_result"
    }
   ],
   "source": [
    "al.shape"
   ]
  },
  {
   "cell_type": "code",
   "execution_count": 57,
   "metadata": {},
   "outputs": [
    {
     "data": {
      "text/plain": [
       "(640, 640, 3)"
      ]
     },
     "execution_count": 57,
     "metadata": {},
     "output_type": "execute_result"
    }
   ],
   "source": [
    "im.shape"
   ]
  },
  {
   "cell_type": "code",
   "execution_count": 56,
   "metadata": {},
   "outputs": [
    {
     "data": {
      "text/plain": [
       "torch.Size([3, 640, 640])"
      ]
     },
     "execution_count": 56,
     "metadata": {},
     "output_type": "execute_result"
    }
   ],
   "source": [
    "T.ToTensor()(im).shape"
   ]
  },
  {
   "cell_type": "code",
   "execution_count": 3,
   "metadata": {},
   "outputs": [],
   "source": [
    "imgs_path = os.path.join(input_dir, 'image')\n",
    "labels_path = os.path.join(input_dir, 'label')\n",
    "\n",
    "out_imgs_path = os.path.join(output_dir, 'image_resized')\n",
    "out_labels_path = os.path.join(output_dir, 'label_resized')\n",
    "\n",
    "if not os.path.exists(out_imgs_path):\n",
    "    os.makedirs(out_imgs_path)\n",
    "if not os.path.exists(out_labels_path):\n",
    "    os.makedirs(out_labels_path)"
   ]
  },
  {
   "cell_type": "code",
   "execution_count": 5,
   "metadata": {},
   "outputs": [
    {
     "name": "stdout",
     "output_type": "stream",
     "text": [
      "christchurch_309_1.png\n",
      "christchurch_309_2.png\n",
      "christchurch_309_3.png\n",
      "christchurch_309_4.png\n",
      "christchurch_309_5.png\n",
      "christchurch_309_6.png\n",
      "christchurch_309_7.png\n",
      "christchurch_309_8.png\n",
      "christchurch_309_9.png\n",
      "christchurch_309_10.png\n",
      "christchurch_309_11.png\n",
      "christchurch_309_12.png\n",
      "christchurch_309_13.png\n",
      "christchurch_309_14.png\n",
      "christchurch_309_15.png\n",
      "christchurch_309_16.png\n",
      "christchurch_309_17.png\n",
      "christchurch_309_18.png\n",
      "christchurch_309_19.png\n",
      "christchurch_309_20.png\n",
      "christchurch_309_21.png\n",
      "christchurch_309_22.png\n",
      "christchurch_309_23.png\n",
      "christchurch_309_24.png\n",
      "christchurch_309_25.png\n",
      "christchurch_309_26.png\n",
      "christchurch_309_27.png\n",
      "christchurch_309_28.png\n",
      "christchurch_309_29.png\n",
      "christchurch_309_30.png\n",
      "christchurch_309_31.png\n",
      "christchurch_309_32.png\n",
      "christchurch_309_33.png\n",
      "christchurch_309_34.png\n",
      "christchurch_309_35.png\n",
      "christchurch_309_36.png\n",
      "christchurch_309_37.png\n",
      "christchurch_309_38.png\n",
      "christchurch_309_39.png\n",
      "christchurch_309_40.png\n",
      "christchurch_309_41.png\n",
      "christchurch_309_42.png\n",
      "christchurch_309_43.png\n",
      "christchurch_309_44.png\n",
      "christchurch_309_45.png\n",
      "christchurch_309_46.png\n",
      "christchurch_309_47.png\n",
      "christchurch_309_48.png\n",
      "christchurch_309_49.png\n",
      "christchurch_309_50.png\n",
      "christchurch_309_51.png\n",
      "christchurch_309_52.png\n",
      "christchurch_309_53.png\n",
      "christchurch_309_54.png\n",
      "christchurch_309_55.png\n",
      "christchurch_309_56.png\n",
      "christchurch_309_57.png\n",
      "christchurch_309_58.png\n",
      "christchurch_309_59.png\n",
      "christchurch_309_60.png\n",
      "christchurch_309_61.png\n",
      "christchurch_309_62.png\n",
      "christchurch_309_63.png\n",
      "christchurch_309_64.png\n",
      "christchurch_309_65.png\n",
      "christchurch_309_66.png\n",
      "christchurch_309_67.png\n",
      "christchurch_309_68.png\n",
      "christchurch_309_69.png\n",
      "christchurch_309_70.png\n",
      "christchurch_309_71.png\n",
      "christchurch_309_72.png\n",
      "christchurch_309_73.png\n",
      "christchurch_309_74.png\n",
      "christchurch_309_75.png\n",
      "christchurch_309_76.png\n",
      "christchurch_309_77.png\n",
      "christchurch_309_78.png\n",
      "christchurch_309_79.png\n",
      "christchurch_309_80.png\n",
      "christchurch_309_81.png\n",
      "christchurch_309_82.png\n",
      "christchurch_309_83.png\n",
      "christchurch_309_84.png\n",
      "christchurch_309_85.png\n",
      "christchurch_309_86.png\n",
      "christchurch_309_87.png\n",
      "christchurch_309_88.png\n",
      "christchurch_309_89.png\n",
      "christchurch_309_90.png\n",
      "christchurch_309_91.png\n",
      "christchurch_309_92.png\n",
      "christchurch_309_93.png\n",
      "christchurch_309_94.png\n",
      "christchurch_309_95.png\n",
      "christchurch_309_96.png\n",
      "christchurch_309_97.png\n",
      "christchurch_309_98.png\n",
      "christchurch_309_99.png\n",
      "christchurch_309_100.png\n",
      "christchurch_309_101.png\n",
      "christchurch_309_102.png\n",
      "christchurch_309_103.png\n",
      "christchurch_309_104.png\n",
      "christchurch_309_105.png\n",
      "christchurch_309_106.png\n",
      "christchurch_309_107.png\n",
      "christchurch_309_108.png\n",
      "christchurch_309_109.png\n",
      "christchurch_309_110.png\n",
      "christchurch_309_111.png\n",
      "christchurch_309_112.png\n",
      "christchurch_309_113.png\n",
      "christchurch_309_114.png\n",
      "christchurch_309_115.png\n",
      "christchurch_309_116.png\n",
      "christchurch_309_117.png\n",
      "christchurch_309_118.png\n",
      "christchurch_309_119.png\n",
      "christchurch_309_120.png\n",
      "christchurch_309_121.png\n",
      "christchurch_309_122.png\n",
      "christchurch_309_123.png\n",
      "christchurch_309_124.png\n",
      "christchurch_309_125.png\n",
      "christchurch_309_126.png\n",
      "christchurch_309_127.png\n",
      "christchurch_309_128.png\n",
      "christchurch_309_129.png\n",
      "christchurch_309_130.png\n",
      "christchurch_309_131.png\n",
      "christchurch_309_132.png\n",
      "christchurch_309_133.png\n",
      "christchurch_309_134.png\n",
      "christchurch_309_135.png\n",
      "christchurch_309_136.png\n",
      "christchurch_309_137.png\n",
      "christchurch_309_138.png\n",
      "christchurch_309_139.png\n",
      "christchurch_309_140.png\n",
      "christchurch_309_141.png\n",
      "christchurch_309_142.png\n",
      "christchurch_309_143.png\n",
      "christchurch_309_144.png\n",
      "christchurch_309_145.png\n",
      "christchurch_309_146.png\n",
      "christchurch_309_147.png\n",
      "christchurch_309_148.png\n",
      "christchurch_309_149.png\n",
      "christchurch_309_150.png\n",
      "christchurch_309_151.png\n",
      "christchurch_309_152.png\n",
      "christchurch_309_153.png\n",
      "christchurch_309_154.png\n",
      "christchurch_309_155.png\n",
      "christchurch_309_156.png\n",
      "christchurch_309_157.png\n",
      "christchurch_309_158.png\n",
      "christchurch_309_159.png\n",
      "christchurch_309_160.png\n",
      "christchurch_309_161.png\n",
      "christchurch_309_162.png\n",
      "christchurch_309_163.png\n",
      "christchurch_309_164.png\n",
      "christchurch_309_165.png\n",
      "christchurch_309_166.png\n",
      "christchurch_309_167.png\n",
      "christchurch_309_168.png\n",
      "christchurch_309_169.png\n",
      "christchurch_309_170.png\n",
      "christchurch_309_171.png\n",
      "christchurch_309_172.png\n",
      "christchurch_309_173.png\n",
      "christchurch_309_174.png\n",
      "christchurch_309_175.png\n",
      "christchurch_309_176.png\n",
      "christchurch_309_177.png\n",
      "christchurch_309_178.png\n",
      "christchurch_309_179.png\n",
      "christchurch_309_180.png\n",
      "christchurch_309_181.png\n",
      "christchurch_309_182.png\n",
      "christchurch_309_183.png\n",
      "christchurch_309_184.png\n",
      "christchurch_309_185.png\n",
      "christchurch_309_186.png\n",
      "christchurch_309_187.png\n",
      "christchurch_309_188.png\n",
      "christchurch_309_189.png\n",
      "christchurch_309_190.png\n",
      "christchurch_309_191.png\n",
      "christchurch_309_192.png\n",
      "christchurch_309_193.png\n",
      "christchurch_309_194.png\n",
      "christchurch_309_195.png\n",
      "christchurch_309_196.png\n",
      "christchurch_309_197.png\n",
      "christchurch_309_198.png\n",
      "christchurch_309_199.png\n",
      "christchurch_309_200.png\n",
      "christchurch_309_201.png\n",
      "christchurch_309_202.png\n",
      "christchurch_309_203.png\n",
      "christchurch_309_204.png\n",
      "christchurch_309_205.png\n",
      "christchurch_309_206.png\n",
      "christchurch_309_207.png\n",
      "christchurch_309_208.png\n",
      "christchurch_309_209.png\n",
      "christchurch_309_210.png\n",
      "christchurch_309_211.png\n",
      "christchurch_309_212.png\n",
      "christchurch_309_213.png\n",
      "christchurch_309_214.png\n",
      "christchurch_309_215.png\n",
      "christchurch_309_216.png\n",
      "christchurch_309_217.png\n",
      "christchurch_309_218.png\n",
      "christchurch_309_219.png\n",
      "christchurch_309_220.png\n",
      "christchurch_309_221.png\n",
      "christchurch_309_222.png\n",
      "christchurch_309_223.png\n",
      "christchurch_309_224.png\n",
      "christchurch_309_225.png\n",
      "christchurch_309_226.png\n",
      "christchurch_309_227.png\n",
      "christchurch_309_228.png\n",
      "christchurch_309_229.png\n",
      "christchurch_309_230.png\n",
      "christchurch_309_231.png\n",
      "christchurch_309_232.png\n",
      "christchurch_309_233.png\n",
      "christchurch_309_234.png\n",
      "christchurch_309_235.png\n",
      "christchurch_309_236.png\n",
      "christchurch_309_237.png\n",
      "christchurch_309_238.png\n",
      "christchurch_309_239.png\n",
      "christchurch_309_240.png\n",
      "christchurch_309_241.png\n",
      "christchurch_309_242.png\n",
      "christchurch_309_243.png\n",
      "christchurch_309_244.png\n",
      "christchurch_309_245.png\n",
      "christchurch_309_246.png\n",
      "christchurch_309_247.png\n",
      "christchurch_309_248.png\n",
      "christchurch_309_249.png\n",
      "christchurch_309_250.png\n",
      "christchurch_309_251.png\n",
      "christchurch_309_252.png\n",
      "christchurch_309_253.png\n",
      "christchurch_309_254.png\n",
      "christchurch_309_255.png\n",
      "christchurch_309_256.png\n"
     ]
    },
    {
     "name": "stderr",
     "output_type": "stream",
     "text": [
      "/home/ondin/anaconda3/envs/fva/lib/python3.9/site-packages/PIL/Image.py:3167: DecompressionBombWarning: Image size (100000000 pixels) exceeds limit of 89478485 pixels, could be decompression bomb DOS attack.\n",
      "  warnings.warn(\n"
     ]
    },
    {
     "name": "stdout",
     "output_type": "stream",
     "text": [
      "christchurch_637_1.png\n",
      "christchurch_637_2.png\n",
      "christchurch_637_3.png\n",
      "christchurch_637_4.png\n",
      "christchurch_637_5.png\n",
      "christchurch_637_6.png\n",
      "christchurch_637_7.png\n",
      "christchurch_637_8.png\n",
      "christchurch_637_9.png\n",
      "christchurch_637_10.png\n",
      "christchurch_637_11.png\n",
      "christchurch_637_12.png\n",
      "christchurch_637_13.png\n",
      "christchurch_637_14.png\n",
      "christchurch_637_15.png\n",
      "christchurch_637_16.png\n",
      "christchurch_637_17.png\n",
      "christchurch_637_18.png\n",
      "christchurch_637_19.png\n",
      "christchurch_637_20.png\n",
      "christchurch_637_21.png\n",
      "christchurch_637_22.png\n",
      "christchurch_637_23.png\n",
      "christchurch_637_24.png\n",
      "christchurch_637_25.png\n",
      "christchurch_637_26.png\n",
      "christchurch_637_27.png\n",
      "christchurch_637_28.png\n",
      "christchurch_637_29.png\n",
      "christchurch_637_30.png\n",
      "christchurch_637_31.png\n",
      "christchurch_637_32.png\n"
     ]
    }
   ],
   "source": [
    "img_names = os.listdir(imgs_path)\n",
    "for img_name in img_names:\n",
    "    img_path = os.path.join(imgs_path, img_name)\n",
    "    label_path = os.path.join(labels_path, img_name)\n",
    "\n",
    "    image = np.array(Image.open(img_path))\n",
    "    label = np.array(Image.open(label_path))\n",
    "\n",
    "    new_shape = (int(label.shape[0] * img_ratio), int(label.shape[1] * img_ratio))\n",
    "    label = cv2.resize(label, dsize=new_shape, interpolation=cv2.INTER_AREA)\n",
    "    image = cv2.resize(image, dsize=new_shape, interpolation=cv2.INTER_AREA)\n",
    "\n",
    "    data = label\n",
    "    # Find the positive label areas\n",
    "    positive_label_areas = np.zeros((data.shape[0], data.shape[1]), dtype=np.uint8)\n",
    "    positive_label_areas[np.where(data == 1)] = 1\n",
    "\n",
    "    # Generate a label mask that assigns a unique label to each positive area\n",
    "    label_mask, num_labels = ndimage.label(positive_label_areas)\n",
    "\n",
    "    # Loop through each positive label area and generate a frame\n",
    "    for i in range(1, num_labels+1):\n",
    "        # Find the bounding box of the positive label area\n",
    "        rows, cols = np.where(label_mask == i)\n",
    "        row_min, row_max = np.min(rows), np.max(rows)\n",
    "        col_min, col_max = np.min(cols), np.max(cols)\n",
    "\n",
    "        # Calculate the center of the positive label area\n",
    "        center_row = (row_min + row_max) // 2\n",
    "        center_col = (col_min + col_max) // 2\n",
    "\n",
    "        # Calculate the frame boundaries\n",
    "\n",
    "        x_min, x_max= (0, frame_size) if center_col - frame_size // 2 < 0 else (data.shape[1]-frame_size, data.shape[1]) if center_col + frame_size // 2 > data.shape[1] else (center_col - frame_size // 2, center_col + frame_size // 2)\n",
    "        y_min, y_max= (0, frame_size) if center_row - frame_size // 2 < 0 else (data.shape[0]-frame_size, data.shape[0]) if center_row + frame_size // 2 > data.shape[0] else (center_row - frame_size // 2, center_row + frame_size // 2)\n",
    "\n",
    "        # Extract the content\n",
    "        img_content = image[y_min:y_max, x_min:x_max]\n",
    "        label_content = label[y_min:y_max, x_min:x_max]\n",
    "\n",
    "        # Save the frame content as a new image file\n",
    "        img_out_path = os.path.join(out_imgs_path, f'{img_name[:-4]}_{i}.png')\n",
    "        Image.fromarray(img_content).save(img_out_path)\n",
    "        \n",
    "        label_out_path = os.path.join(out_labels_path, f'{img_name[:-4]}_{i}.png')\n",
    "        Image.fromarray(label_content).save(label_out_path)\n",
    "        print(f'{img_name[:-4]}_{i}.png')"
   ]
  }
 ],
 "metadata": {
  "kernelspec": {
   "display_name": "fva",
   "language": "python",
   "name": "python3"
  },
  "language_info": {
   "codemirror_mode": {
    "name": "ipython",
    "version": 3
   },
   "file_extension": ".py",
   "mimetype": "text/x-python",
   "name": "python",
   "nbconvert_exporter": "python",
   "pygments_lexer": "ipython3",
   "version": "3.9.16"
  },
  "orig_nbformat": 4
 },
 "nbformat": 4,
 "nbformat_minor": 2
}
